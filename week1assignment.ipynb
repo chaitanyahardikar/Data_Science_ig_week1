{
 "cells": [
  {
   "cell_type": "code",
   "execution_count": 7,
   "metadata": {
    "colab": {},
    "colab_type": "code",
    "id": "F-6bE0dYcBgA"
   },
   "outputs": [],
   "source": [
    "## Import stuff\n",
    " \n",
    "import numpy as np\n",
    "from sklearn import datasets, linear_model, metrics"
   ]
  },
  {
   "cell_type": "code",
   "execution_count": 8,
   "metadata": {
    "colab": {},
    "colab_type": "code",
    "id": "gK71NIhMcEs5"
   },
   "outputs": [],
   "source": [
    "## Load the diabetes dataset\n",
    "diabetes = datasets.load_diabetes()\n",
    "diabetes_X = diabetes.data # matrix of dimensions 442x10\n",
    " \n",
    "# Split the data into training/testing sets\n",
    "diabetes_X_train = diabetes_X[:-20]\n",
    "diabetes_X_test = diabetes_X[-20:]\n",
    "\n",
    "# Split the targets into training/testing sets\n",
    "diabetes_y_train = diabetes.target[:-20]\n",
    "diabetes_y_test = diabetes.target[-20:]"
   ]
  },
  {
   "cell_type": "code",
   "execution_count": 14,
   "metadata": {
    "colab": {},
    "colab_type": "code",
    "id": "XJTg22ybcHsl"
   },
   "outputs": [
    {
     "name": "stdout",
     "output_type": "stream",
     "text": [
      "Epoch 0: 14734.323460\n",
      "Epoch 5000: 1524.099638\n",
      "Epoch 10000: 1470.706970\n",
      "Epoch 15000: 1463.728650\n",
      "Epoch 20000: 1462.376138\n",
      "Epoch 25000: 1461.897451\n",
      "Epoch 30000: 1461.597617\n",
      "Epoch 35000: 1461.347012\n",
      "Epoch 40000: 1461.115463\n",
      "Epoch 45000: 1460.894566\n",
      "Epoch 50000: 1460.681519\n",
      "Epoch 55000: 1460.475130\n",
      "Epoch 60000: 1460.274728\n",
      "Epoch 65000: 1460.079839\n",
      "Epoch 70000: 1459.890088\n",
      "Epoch 75000: 1459.705159\n",
      "Epoch 80000: 1459.524779\n",
      "Epoch 85000: 1459.348712\n",
      "Epoch 90000: 1459.176750\n",
      "Epoch 95000: 1459.008707\n"
     ]
    }
   ],
   "source": [
    "# train\n",
    "X = diabetes_X_train\n",
    "y = diabetes_y_train\n",
    "\n",
    "# train: init\n",
    "W = np.zeros(10)\n",
    "b = 0\n",
    " \n",
    "learning_rate = .1\n",
    "epochs = 100000\n",
    " \n",
    "# train: gradient descent\n",
    "for i in range(epochs):\n",
    "    # calculate predictions\n",
    "    y_pred = np.dot(X,W)+b\n",
    " \n",
    "    # calculate error and cost (mean squared error)\n",
    "    error = y_pred-y\n",
    "    mean_squared_error = (1/(2*422))*np.dot(error.T,error)\n",
    " \n",
    "    # calculate gradients\n",
    "    grad_b = (1/422)*((error).sum())\n",
    "    grad_W = (1/422)*np.dot(X.T,error)\n",
    "    # update parameters\n",
    "    b -= learning_rate*grad_b\n",
    "    W -= learning_rate*grad_W\n",
    " \n",
    "    # diagnostic output\n",
    "    if i % 5000 == 0: print(\"Epoch %d: %f\" % (i, mean_squared_error))\n",
    "\n"
   ]
  },
  {
   "cell_type": "code",
   "execution_count": 15,
   "metadata": {
    "colab": {},
    "colab_type": "code",
    "id": "uvSdTn-0cKJL"
   },
   "outputs": [
    {
     "name": "stdout",
     "output_type": "stream",
     "text": [
      "Coefficients: \n",
      " [   3.66162077 -234.66428413  519.39480725  325.58121803 -176.09741143\n",
      "  -16.44091006 -180.07233874  108.04606018  502.78371278   78.97034211]\n",
      "Mean squared error: 996.76\n",
      "========================================================================================================================\n"
     ]
    }
   ],
   "source": [
    "# test\n",
    "X = diabetes_X_test\n",
    "y = diabetes_y_test\n",
    " \n",
    "# calculate predictions + calculate error and cost (same code as above)\n",
    "y_pred = np.dot(X,W)+b\n",
    "error = y_pred-y\n",
    "mean_squared_error = (1/(2*20))*np.dot(error.T,error)\n",
    "\n",
    "print('Coefficients: \\n', W)\n",
    "print(\"Mean squared error: %.2f\" % mean_squared_error)\n",
    "print(\"=\"*120)"
   ]
  },
  {
   "cell_type": "code",
   "execution_count": null,
   "metadata": {},
   "outputs": [],
   "source": []
  }
 ],
 "metadata": {
  "colab": {
   "name": "week1assignment.ipynb",
   "provenance": []
  },
  "kernelspec": {
   "display_name": "Python 3",
   "language": "python",
   "name": "python3"
  },
  "language_info": {
   "codemirror_mode": {
    "name": "ipython",
    "version": 3
   },
   "file_extension": ".py",
   "mimetype": "text/x-python",
   "name": "python",
   "nbconvert_exporter": "python",
   "pygments_lexer": "ipython3",
   "version": "3.7.7"
  }
 },
 "nbformat": 4,
 "nbformat_minor": 1
}
